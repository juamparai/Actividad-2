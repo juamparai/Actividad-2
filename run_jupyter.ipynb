{
 "cells": [
  {
   "cell_type": "markdown",
   "id": "d4125418",
   "metadata": {},
   "source": [
    "Importo el paquete."
   ]
  },
  {
   "cell_type": "code",
   "execution_count": 1,
   "id": "9d9d97ab-a987-4d1a-9740-5f8370e02174",
   "metadata": {},
   "outputs": [],
   "source": [
    "from package_act_1.data import *\n",
    "from package_act_1.my_modules import *"
   ]
  },
  {
   "cell_type": "markdown",
   "id": "712a96ec",
   "metadata": {},
   "source": [
    "Realizo los cinco incisos solicitados"
   ]
  },
  {
   "cell_type": "code",
   "execution_count": 2,
   "id": "92810066",
   "metadata": {},
   "outputs": [
    {
     "name": "stdout",
     "output_type": "stream",
     "text": [
      "[('AGUSTIN', 0, 0, 0), ('YANINA', 10, 2, 5), ('ANDRÉS', 4, 0, 1), ('ARIADNA', 0, 0, 0), ('BAUTISTA', 5, 5, 5), ('CAROLINA', 14, 2, 2), ('CESAR', 0, 0, 0), ('DAVID', 0, 0, 0), ('DIEGO', 7, 1, 1), ('DOLORES', 2, 2, 2), ('DYLAN', 1, 0, 1), ('ELIANA', 1, 5, 5), ('EMANUEL', 1, 5, 5), ('FABIÁN', 5, 0, 0), ('NOELIA', 6, 1, 1), ('FRANCSICA', 1, 0, 0), ('FEDERICO', 1, 2, 2), ('FERNANDA', 2, 3, 3), ('GONZALO', 0, 0, 1), ('NANCY', 11, 0, 0)]\n"
     ]
    }
   ],
   "source": [
    "team_data = generate_structure (names, goals, goals_avoided, assists)\n",
    "print (team_data)"
   ]
  },
  {
   "cell_type": "code",
   "execution_count": 3,
   "id": "574bf3c7",
   "metadata": {},
   "outputs": [
    {
     "name": "stdout",
     "output_type": "stream",
     "text": [
      "Goleador/a: CAROLINA\n"
     ]
    }
   ],
   "source": [
    "topscorer = calculate_top(team_data, 1)\n",
    "print (f'Goleador/a: {topscorer[0]}')"
   ]
  },
  {
   "cell_type": "code",
   "execution_count": 4,
   "id": "c50459b0",
   "metadata": {},
   "outputs": [
    {
     "name": "stdout",
     "output_type": "stream",
     "text": [
      "Más influyente: CAROLINA\n"
     ]
    }
   ],
   "source": [
    "most_influential = calculate_best(team_data)\n",
    "print (f'Más influyente: {most_influential}')"
   ]
  },
  {
   "cell_type": "markdown",
   "id": "7a73a662",
   "metadata": {},
   "source": [
    "FIN DEL PROGRAMA.\n",
    "\n",
    "Vamos a ver en detalle el módulo del primer inciso:"
   ]
  },
  {
   "cell_type": "code",
   "execution_count": 5,
   "id": "f4360de9",
   "metadata": {},
   "outputs": [
    {
     "name": "stdout",
     "output_type": "stream",
     "text": [
      "['AGUSTIN', 'YANINA', 'ANDRÉS', 'ARIADNA', 'BAUTISTA', 'CAROLINA', 'CESAR', 'DAVID', 'DIEGO', 'DOLORES', 'DYLAN', 'ELIANA', 'EMANUEL', 'FABIÁN', 'NOELIA', 'FRANCSICA', 'FEDERICO', 'FERNANDA', 'GONZALO', 'NANCY']\n"
     ]
    }
   ],
   "source": [
    "names_uppered = names.upper ()\n",
    "names_list = names_uppered.split(', ')\n",
    "print (names_list)"
   ]
  },
  {
   "cell_type": "markdown",
   "id": "30827643",
   "metadata": {},
   "source": [
    "Hago de la cadena brindada por la cátedra, una lista con todos los nombres estandarizados."
   ]
  },
  {
   "cell_type": "code",
   "execution_count": 7,
   "id": "2b6263fc",
   "metadata": {},
   "outputs": [
    {
     "name": "stdout",
     "output_type": "stream",
     "text": [
      "('AGUSTIN', 0, 0, 0)\n",
      "('YANINA', 10, 2, 5)\n",
      "('ANDRÉS', 4, 0, 1)\n",
      "('ARIADNA', 0, 0, 0)\n",
      "('BAUTISTA', 5, 5, 5)\n",
      "('CAROLINA', 14, 2, 2)\n",
      "('CESAR', 0, 0, 0)\n",
      "('DAVID', 0, 0, 0)\n",
      "('DIEGO', 7, 1, 1)\n",
      "('DOLORES', 2, 2, 2)\n",
      "('DYLAN', 1, 0, 1)\n",
      "('ELIANA', 1, 5, 5)\n",
      "('EMANUEL', 1, 5, 5)\n",
      "('FABIÁN', 5, 0, 0)\n",
      "('NOELIA', 6, 1, 1)\n",
      "('FRANCSICA', 1, 0, 0)\n",
      "('FEDERICO', 1, 2, 2)\n",
      "('FERNANDA', 2, 3, 3)\n",
      "('GONZALO', 0, 0, 1)\n",
      "('NANCY', 11, 0, 0)\n"
     ]
    }
   ],
   "source": [
    "zipped_file = zip (names_list, goals, goals_avoided, assists)\n",
    "zipped_file_list =  list (zipped_file)\n",
    "\n",
    "for jugador in zipped_file_list:\n",
    "    print (jugador)"
   ]
  },
  {
   "cell_type": "markdown",
   "id": "3e7b430a",
   "metadata": {},
   "source": []
  }
 ],
 "metadata": {
  "kernelspec": {
   "display_name": "Python 3",
   "language": "python",
   "name": "python3"
  },
  "language_info": {
   "codemirror_mode": {
    "name": "ipython",
    "version": 3
   },
   "file_extension": ".py",
   "mimetype": "text/x-python",
   "name": "python",
   "nbconvert_exporter": "python",
   "pygments_lexer": "ipython3",
   "version": "3.11.7"
  }
 },
 "nbformat": 4,
 "nbformat_minor": 5
}
