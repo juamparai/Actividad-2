{
 "cells": [
  {
   "cell_type": "code",
   "execution_count": null,
   "id": "9d9d97ab-a987-4d1a-9740-5f8370e02174",
   "metadata": {},
   "outputs": [],
   "source": []
  }
 ],
 "metadata": {
  "kernelspec": {
   "display_name": "",
   "name": ""
  },
  "language_info": {
   "name": ""
  }
 },
 "nbformat": 4,
 "nbformat_minor": 5
}
